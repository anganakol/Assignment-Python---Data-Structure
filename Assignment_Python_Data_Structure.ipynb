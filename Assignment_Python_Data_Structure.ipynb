{
  "nbformat": 4,
  "nbformat_minor": 0,
  "metadata": {
    "colab": {
      "provenance": []
    },
    "kernelspec": {
      "name": "python3",
      "display_name": "Python 3"
    },
    "language_info": {
      "name": "python"
    }
  },
  "cells": [
    {
      "cell_type": "code",
      "execution_count": null,
      "metadata": {
        "id": "aODDrjwWlsTf"
      },
      "outputs": [],
      "source": []
    },
    {
      "cell_type": "markdown",
      "source": [
        "#Data Structure Theory\n",
        "\n",
        "1. What are data structures, and why are they important?\n",
        "\n",
        "ans- Data structures are specialized formats for organizing and storing data in computers. They're like blueprints for how data is arranged and accessed, significantly influencing the efficiency and effectiveness of algorithms.\n",
        "\n",
        "Data structure is important because they are efitient, organized, poblem solving and they are the foundation of advanced concept.\n",
        "\n",
        "2. Explain the difference between mutable and immutable data types with examples.\n",
        "\n",
        "ans- Mutable Data Types - Mutable data types can be modified after they are created. Changes made to a mutable object directly affect the original object.\n",
        "\n",
        "i.g. Lists\n",
        "      my_list = [1, 2, 3]\n",
        "my_list[0] = 0  \n",
        "##Modifies the list in-place\n",
        "print(my_list)  \n",
        "##Output: [0, 2, 3]\n",
        "\n",
        "  Immutable Data Types - Immutable data types cannot be changed after they are created. Any operation that appears to modify an immutable object actually creates a new object with1 the desired changes.\n",
        "  \n",
        "i.g. Numbers (int, float, complex)\n",
        "      x = 5\n",
        "x = x + 1\n",
        "##Creates a new integer object with the value 6\n",
        "print(x)\n",
        "##Output: 6\n",
        "\n",
        "3. What are the main differences between lists and tuples in Python?\n",
        "\n",
        "ans- Lists are mutable and tuples are immutable.\n",
        "\n",
        "4. Describe how dictionaries store data?\n",
        "\n",
        "ans- How Dictionaries Store Data\n",
        "\n",
        "At their core, dictionaries use a technique called hashing to store and retrieve data. Here's a simplified breakdown:\n",
        "\n",
        "Hash Function:\n",
        "\n",
        "When you create a dictionary, Python uses a hash function to convert each key into a unique integer value called a hash value.\n",
        "This hash value is used to determine the location where the key-value pair will be stored within the dictionary's internal structure.\n",
        "Hash Table:\n",
        "\n",
        "Python's dictionaries are typically implemented using a data structure called a hash table.\n",
        "A hash table is an array-like structure where each index can hold multiple key-value pairs.\n",
        "Collision Handling:\n",
        "\n",
        "Sometimes, different keys can produce the same hash value, leading to a \"collision.\"\n",
        "Python uses various techniques to handle collisions, such as:\n",
        "Chaining: Storing multiple key-value pairs in the same bucket as a linked list.\n",
        "Open Addressing: Finding the next available empty bucket to store the colliding pair.\n",
        "\n",
        "5. Why might you use a set instead of a list in Python?\n",
        "\n",
        "ans- set are unique, have set operations, and performance.\n",
        "\n",
        "6. What is a string in Python, and how is it different from a list?\n",
        "\n",
        "ans- Definition: A sequence of characters enclosed within single or double quotes (e.g., 'hello', \"world\").\n",
        "Data Type: Represents textual information.\n",
        "Key Characteristics:\n",
        "Immutable: Once created, a string cannot be changed directly. Any operation that seems to modify a string actually creates a new string.\n",
        "Unicode-based: Can represent characters from various languages and scripts.\n",
        "Indexing and Slicing: Individual characters or substrings can be accessed using indexing (starting from 0) and slicing.\n",
        "Rich set of methods: Many built-in methods for string manipulation (e.g., upper(), lower(), find(), replace()).\n",
        "List\n",
        "\n",
        "Definition: An ordered, mutable collection of items.\n",
        "Data Type: Can hold elements of any data type (integers, floats, strings, other lists, etc.).\n",
        "Key Characteristics:\n",
        "Mutable: Can be modified after creation (add, remove, change elements).\n",
        "Ordered: Maintains the order of insertion.\n",
        "Heterogeneous: Can contain elements of different data types.\n",
        "Versatile: Widely used for various tasks like storing data, organizing information, and performing operations on collections.\n",
        "\n",
        "7. How do tuples ensure data integrity in Python?\n",
        "\n",
        "ans- Tuples in Python ensure data integrity primarily through their immutability. This means that once a tuple is created, its elements cannot be changed, added, or removed.\n",
        "\n",
        "8. What is a hash table, and how does it relate to dictionaries in Python?\n",
        "\n",
        "ans- Hash Tables: A Foundation for Efficient Data Retrieval\n",
        "\n",
        "A hash table is a data structure that uses a hash function to map keys to specific locations (indices) within an array. This allows for incredibly fast lookups of values associated with those keys.\n",
        "\n",
        "Hash Tables and Python Dictionaries\n",
        "\n",
        "Python dictionaries are implemented using hash tables under the hood.\n",
        "\n",
        "Fast Lookups: Dictionaries provide extremely fast access to values based on their keys, thanks to the efficient hashing mechanism.\n",
        "Unordered: The order of items in a dictionary is not guaranteed because the hash function determines their placement.\n",
        "Keys Must Be Hashable: Keys in a dictionary must be immutable (e.g., numbers, strings, tuples) because the hash function needs to generate a consistent hash code for each key.\n",
        "\n",
        "9. Can lists contain different data types in Python?\n",
        "\n",
        "ans- Yes, lists in Python can contain elements of different data types.\n",
        "\n",
        "10. Explain why strings are immutable in Python?\n",
        "\n",
        "ans- Strings in Python are immutable beacuase they are efficient, theat safety, dictionaries keys, and Predictability and Debugging.\n",
        "\n",
        "11. What advantages do dictionaries offer over lists for certain tasks?\n",
        "\n",
        "ans- Dictionaries offer several advantages over lists in certain situations:\n",
        "\n",
        "  1. Fast Lookups:\n",
        "\n",
        "Hashing: Dictionaries are implemented using hash tables, which allow for very fast lookups of values based on their keys.\n",
        "Lists: To find a specific value in a list, you often need to iterate through the entire list, which can be time-consuming, especially for large lists.\n",
        "  2. Key-Value Association:\n",
        "\n",
        "Dictionaries: Store data in key-value pairs, making it easy to associate information with specific identifiers.\n",
        "Lists: Store data sequentially, and you might need to use additional logic to associate values with specific keys.\n",
        "  3. Uniqueness (for keys):\n",
        "\n",
        "Dictionaries: Keys within a dictionary must be unique. This can be helpful for ensuring that data is not duplicated.\n",
        "Lists: Can contain duplicate values.\n",
        "  4. Flexibility:\n",
        "\n",
        "Dictionaries: Can store a wide variety of data types as values, making them highly versatile for representing complex data structures.\n",
        "\n",
        "12. Describe a scenario where using a tuple would be preferable over a list.\n",
        "\n",
        "ans- Using a tuple to store them offers several advantages:\n",
        "      Immutability, Readability, Performance.\n",
        "\n",
        "13. How do sets handle duplicate values in Python?\n",
        "\n",
        "ans- sets handle duplicate values in Python by Uniqueness and  Duplicate Removals.\n",
        "\n",
        "14. How does the “in” keyword work differently for lists and dictionaries?\n",
        "\n",
        "ans- Lists :-\n",
        "        my_list = [1, 2, 3, 4, 5]\n",
        "if 3 in my_list:\n",
        "    print(\"3 is in the list\")\n",
        "\n",
        "dictionaries :-\n",
        "    my_dict = {\"name\": \"Alice\", \"age\": 30}\n",
        "if \"name\" in my_dict:\n",
        "    print(\"The key 'name' exists in the dictionary\")\n",
        "\n",
        "15. Can you modify the elements of a tuple? Explain why or why not.\n",
        "\n",
        "ans- No, you cannot directly modify the elements of a tuple in Python.\n",
        "\n",
        "Why?\n",
        "\n",
        "Immutability: Tuples are designed to be immutable, meaning their contents cannot be changed after they are created. This is a fundamental characteristic of tuples.\n",
        "\n",
        "Consequences of Modification: If tuples were mutable, it could lead to unexpected behavior and potential errors in programs, especially in scenarios where the integrity of the data within the tuple is crucial.\n",
        "\n",
        "16. What is a nested dictionary, and give an example of its use case?\n",
        "\n",
        "ans- Nested Dictionary\n",
        "\n",
        "In Python, a nested dictionary is a dictionary where the values themselves are also dictionaries. This creates a hierarchical structure, allowing you to represent complex, multi-level data.\n",
        "\n",
        "student_data = {\n",
        "    \"student1\": {\n",
        "        \"name\": \"Alice\",\n",
        "        \"age\": 25,\n",
        "        \"grades\": {\"Math\": 90, \"Science\": 85}\n",
        "    },\n",
        "    \"student2\": {\n",
        "        \"name\": \"Bob\",\n",
        "        \"age\": 22,\n",
        "        \"grades\": {\"Math\": 88, \"History\": 92}\n",
        "    }\n",
        "}\n",
        "\n",
        "17. Describe the time complexity of accessing elements in a dictionary.\n",
        "\n",
        "ans - The time complexity of accessing elements in a Python dictionary is typically O(1), which means it's constant time.\n",
        "\n",
        "18. In what situations are lists preferred over dictionaries.\n",
        "\n",
        "ans- Maintaining Order, Allowing Duplicates, Efficient Indexing and Slicing, When Keys Are Not Applicable.\n",
        "\n",
        "19. Why are dictionaries considered unordered, and how does that affect data retrieval?\n",
        "\n",
        "ans- Dictionaries in Python are considered unordered because they don't guarantee any specific order for the key-value pairs. This means that when you iterate over a dictionary (for example, using a for loop), the order in which the key-value pairs are processed is not predictable.\n",
        "\n",
        "  How does this affect data retrieval?\n",
        "  No reliance on order\n",
        "  Focus on keys\n",
        "\n",
        "20. Explain the difference between a list and a dictionary in terms of data retrieval.\n",
        "\n",
        "ans- Data Retrieval: Lists vs. Dictionaries\n",
        "\n",
        "Lists:\n",
        "\n",
        "Access by Index: Elements in a list are accessed using their numerical index (starting from 0).\n",
        "my_list = [10, 20, 30]\n",
        "first_element = my_list[0] # Accesses the first element (10)\n",
        "\n",
        "Linear Search: To find a specific value, Python needs to iterate through the list, comparing each element to the target value. This can be time-consuming for large lists.\n",
        "Time Complexity: In the worst case, finding a value in a list has a time complexity of O(n), where 'n' is the number of elements in the list.\n",
        "Dictionaries:\n",
        "\n",
        "Access by Key: Elements in a dictionary are accessed using their unique keys.\n",
        "my_dict = {\"name\": \"Alice\", \"age\": 30}\n",
        "name = my_dict[\"name\"] # Accesses the value associated with the key \"name\"\n",
        "\n",
        "Hashing: Dictionaries are implemented using hash tables, which allow for very fast lookups of values based on their keys.\n",
        "Time Complexity: The average time complexity for accessing a value in a dictionary is O(1), meaning it takes constant time regardless of the size of the dictionary.\n",
        "\n"
      ],
      "metadata": {
        "id": "XduQ1Vn6muZ5"
      }
    },
    {
      "cell_type": "markdown",
      "source": [
        "'Practical Questions."
      ],
      "metadata": {
        "id": "6WADUdKOnUXF"
      }
    },
    {
      "cell_type": "markdown",
      "source": [
        "1. Write a code to create a string with your name and print it.\n"
      ],
      "metadata": {
        "id": "8hF5Ez-jnXRC"
      }
    },
    {
      "cell_type": "code",
      "source": [
        "my_name = \"Angana\"\n",
        "print(my_name)"
      ],
      "metadata": {
        "colab": {
          "base_uri": "https://localhost:8080/"
        },
        "id": "eLwTaM8NnZQY",
        "outputId": "110ebca2-8243-43bb-b90c-b43421c27342"
      },
      "execution_count": 2,
      "outputs": [
        {
          "output_type": "stream",
          "name": "stdout",
          "text": [
            "Angana\n"
          ]
        }
      ]
    },
    {
      "cell_type": "markdown",
      "source": [
        "2. Write a code to find the length of the string \"Hello World\""
      ],
      "metadata": {
        "id": "cegzkT9Hnofl"
      }
    },
    {
      "cell_type": "code",
      "source": [
        "my_string = \"Hello World\"\n",
        "length = len(my_string)\n",
        "print(f\"The length of the string is: {length}\")"
      ],
      "metadata": {
        "colab": {
          "base_uri": "https://localhost:8080/"
        },
        "id": "yGR47vmxnqxe",
        "outputId": "b3bff597-9e29-4d11-a52c-cfbfb286b5ff"
      },
      "execution_count": 3,
      "outputs": [
        {
          "output_type": "stream",
          "name": "stdout",
          "text": [
            "The length of the string is: 11\n"
          ]
        }
      ]
    },
    {
      "cell_type": "markdown",
      "source": [
        "3. Write a code to slice the first 3 characters from the string \"Python Programming\""
      ],
      "metadata": {
        "id": "foPT3VvansDP"
      }
    },
    {
      "cell_type": "code",
      "source": [
        "my_string = \"Python Programming\"\n",
        "sliced_string = my_string[:3]\n",
        "print(sliced_string)"
      ],
      "metadata": {
        "colab": {
          "base_uri": "https://localhost:8080/"
        },
        "id": "jPcc30DwnuPo",
        "outputId": "161f5795-c9f2-4b07-d75e-783c468b63aa"
      },
      "execution_count": 4,
      "outputs": [
        {
          "output_type": "stream",
          "name": "stdout",
          "text": [
            "Pyt\n"
          ]
        }
      ]
    },
    {
      "cell_type": "markdown",
      "source": [
        "4. Write a code to convert the string \"hello\" to uppercase"
      ],
      "metadata": {
        "id": "8-7_TAz6nvhp"
      }
    },
    {
      "cell_type": "code",
      "source": [
        "my_string = \"hello\"\n",
        "uppercase_string = my_string.upper()\n",
        "print(uppercase_string)"
      ],
      "metadata": {
        "colab": {
          "base_uri": "https://localhost:8080/"
        },
        "id": "7pPSYkqin12b",
        "outputId": "12d80679-eb06-4fda-d21a-ab8ac1e7b99d"
      },
      "execution_count": 25,
      "outputs": [
        {
          "output_type": "stream",
          "name": "stdout",
          "text": [
            "HELLO\n"
          ]
        }
      ]
    },
    {
      "cell_type": "markdown",
      "source": [
        "5. Write a code to replace the word \"apple\" with \"orange\" in the string \"I like apple\""
      ],
      "metadata": {
        "id": "Cdut-vJVn25T"
      }
    },
    {
      "cell_type": "code",
      "source": [
        "my_string = \"I like apple\"\n",
        "new_string = my_string.replace(\"apple\", \"orange\")\n",
        "print(new_string)"
      ],
      "metadata": {
        "colab": {
          "base_uri": "https://localhost:8080/"
        },
        "id": "q5x6tD1Cn4Xe",
        "outputId": "6e56c553-7108-4cb4-b8f2-18177b906c28"
      },
      "execution_count": 24,
      "outputs": [
        {
          "output_type": "stream",
          "name": "stdout",
          "text": [
            "I like orange\n"
          ]
        }
      ]
    },
    {
      "cell_type": "markdown",
      "source": [
        "6. Write a code to create a list with numbers 1 to 5 and print it"
      ],
      "metadata": {
        "id": "IG2cqooon5bt"
      }
    },
    {
      "cell_type": "code",
      "source": [
        "# Create the list\n",
        "my_list = [1, 2, 3, 4, 5]\n",
        "\n",
        "# Print the list\n",
        "print(my_list)"
      ],
      "metadata": {
        "colab": {
          "base_uri": "https://localhost:8080/"
        },
        "id": "kyvpJ-sBn66l",
        "outputId": "f748e687-0f02-49e8-e6f2-f71faa8f5573"
      },
      "execution_count": 23,
      "outputs": [
        {
          "output_type": "stream",
          "name": "stdout",
          "text": [
            "[1, 2, 3, 4, 5]\n"
          ]
        }
      ]
    },
    {
      "cell_type": "markdown",
      "source": [
        "7. Write a code to append the number 10 to the list [1, 2, 3, 4]"
      ],
      "metadata": {
        "id": "O9aWUtWin7_5"
      }
    },
    {
      "cell_type": "code",
      "source": [
        "my_list = [1, 2, 3, 4]\n",
        "my_list.append(10)\n",
        "print(my_list)"
      ],
      "metadata": {
        "colab": {
          "base_uri": "https://localhost:8080/"
        },
        "id": "3IHHAToyn9bz",
        "outputId": "4dc62312-70d1-4fee-fc35-37e0246f8c12"
      },
      "execution_count": 22,
      "outputs": [
        {
          "output_type": "stream",
          "name": "stdout",
          "text": [
            "[1, 2, 3, 4, 10]\n"
          ]
        }
      ]
    },
    {
      "cell_type": "markdown",
      "source": [
        "8. Write a code to remove the number 3 from the list [1, 2, 3, 4, 5]"
      ],
      "metadata": {
        "id": "F__qbsmtn-fs"
      }
    },
    {
      "cell_type": "code",
      "source": [
        "my_list = [1, 2, 3, 4, 5]\n",
        "my_list.remove(3)\n",
        "print(my_list)"
      ],
      "metadata": {
        "colab": {
          "base_uri": "https://localhost:8080/"
        },
        "id": "zOFrzw_un_1f",
        "outputId": "1ef7fb31-cb71-42d5-f847-0ff0adfdf63b"
      },
      "execution_count": 21,
      "outputs": [
        {
          "output_type": "stream",
          "name": "stdout",
          "text": [
            "[1, 2, 4, 5]\n"
          ]
        }
      ]
    },
    {
      "cell_type": "markdown",
      "source": [
        "9. Write a code to access the second element in the list ['a', 'b', 'c', 'd']"
      ],
      "metadata": {
        "id": "o1ZBOlFdoGrj"
      }
    },
    {
      "cell_type": "code",
      "source": [
        "my_list = ['a', 'b', 'c', 'd']\n",
        "second_element = my_list[1]\n",
        "print(second_element)"
      ],
      "metadata": {
        "colab": {
          "base_uri": "https://localhost:8080/"
        },
        "id": "3OSlK6PRoIXz",
        "outputId": "6c5bfb5a-6ee6-499a-e55e-8b339c146056"
      },
      "execution_count": 20,
      "outputs": [
        {
          "output_type": "stream",
          "name": "stdout",
          "text": [
            "b\n"
          ]
        }
      ]
    },
    {
      "cell_type": "markdown",
      "source": [
        "10. Write a code to reverse the list [10, 20, 30, 40, 50]"
      ],
      "metadata": {
        "id": "qk_vaM32oJZO"
      }
    },
    {
      "cell_type": "code",
      "source": [
        "my_list = [10, 20, 30, 40, 50]\n",
        "reversed_list = my_list[::-1]\n",
        "print(reversed_list)"
      ],
      "metadata": {
        "colab": {
          "base_uri": "https://localhost:8080/"
        },
        "id": "PxQEMuB5oKwA",
        "outputId": "28d2e27e-f574-49c2-c6e0-2d770187fd25"
      },
      "execution_count": 19,
      "outputs": [
        {
          "output_type": "stream",
          "name": "stdout",
          "text": [
            "[50, 40, 30, 20, 10]\n"
          ]
        }
      ]
    },
    {
      "cell_type": "markdown",
      "source": [
        " 11. Write a code to create a tuple with the elements 10, 20, 30 and print it."
      ],
      "metadata": {
        "id": "ZRTXQTW3oL3K"
      }
    },
    {
      "cell_type": "code",
      "source": [
        "# Create a tuple\n",
        "my_tuple = (10, 20, 30)\n",
        "\n",
        "# Print the tuple\n",
        "print(my_tuple)"
      ],
      "metadata": {
        "colab": {
          "base_uri": "https://localhost:8080/"
        },
        "id": "3OC2u-_goNQX",
        "outputId": "b90f56e8-936d-460a-ea77-4a9dc96137ef"
      },
      "execution_count": 18,
      "outputs": [
        {
          "output_type": "stream",
          "name": "stdout",
          "text": [
            "(10, 20, 30)\n"
          ]
        }
      ]
    },
    {
      "cell_type": "markdown",
      "source": [
        "12. Write a code to access the first element of the tuple ('apple', 'banana', 'cherry')."
      ],
      "metadata": {
        "id": "q-NqWWjzoOWn"
      }
    },
    {
      "cell_type": "code",
      "source": [
        "my_tuple = ('apple', 'banana', 'cherry')\n",
        "first_element = my_tuple[0]\n",
        "print(first_element)"
      ],
      "metadata": {
        "colab": {
          "base_uri": "https://localhost:8080/"
        },
        "id": "FISDJFBQoPn5",
        "outputId": "8554a803-7569-458b-f509-b10ea87b5267"
      },
      "execution_count": 17,
      "outputs": [
        {
          "output_type": "stream",
          "name": "stdout",
          "text": [
            "apple\n"
          ]
        }
      ]
    },
    {
      "cell_type": "markdown",
      "source": [
        "13. Write a code to count how many times the number 2 appears in the tuple (1, 2, 3, 2, 4, 2).  "
      ],
      "metadata": {
        "id": "kOTdr0tMoRAq"
      }
    },
    {
      "cell_type": "code",
      "source": [
        "my_tuple = (1, 2, 3, 2, 4, 2)\n",
        "count_of_two = my_tuple.count(2)\n",
        "print(f\"The number 2 appears {count_of_two} times in the tuple.\")"
      ],
      "metadata": {
        "colab": {
          "base_uri": "https://localhost:8080/"
        },
        "id": "tvnd1jMeoSKm",
        "outputId": "d036f544-4828-45c0-a74b-253acaabf869"
      },
      "execution_count": 16,
      "outputs": [
        {
          "output_type": "stream",
          "name": "stdout",
          "text": [
            "The number 2 appears 3 times in the tuple.\n"
          ]
        }
      ]
    },
    {
      "cell_type": "markdown",
      "source": [
        "14. Write a code to find the index of the element \"cat\" in the tuple ('dog', 'cat', 'rabbit')"
      ],
      "metadata": {
        "id": "c6NaMQu1oTkh"
      }
    },
    {
      "cell_type": "code",
      "source": [
        "my_tuple = ('dog', 'cat', 'rabbit')\n",
        "index_of_cat = my_tuple.index('cat')\n",
        "print(f\"The index of 'cat' is: {index_of_cat}\")"
      ],
      "metadata": {
        "colab": {
          "base_uri": "https://localhost:8080/"
        },
        "id": "CqeN-3-soWE6",
        "outputId": "86a673e6-5c9d-48ec-a2fc-0c89012fd9b9"
      },
      "execution_count": 15,
      "outputs": [
        {
          "output_type": "stream",
          "name": "stdout",
          "text": [
            "The index of 'cat' is: 1\n"
          ]
        }
      ]
    },
    {
      "cell_type": "markdown",
      "source": [
        "15. Write a code to check if the element \"banana\" is in the tuple ('apple', 'orange', 'banana')."
      ],
      "metadata": {
        "id": "LwDqzthuoXKZ"
      }
    },
    {
      "cell_type": "code",
      "source": [
        "my_tuple = ('apple', 'orange', 'banana')\n",
        "\n",
        "if 'banana' in my_tuple:\n",
        "  print(\"banana is in the tuple\")\n",
        "else:\n",
        "  print(\"banana is not in the tuple\")"
      ],
      "metadata": {
        "colab": {
          "base_uri": "https://localhost:8080/"
        },
        "id": "NdCbqOWzoYRC",
        "outputId": "6b5ea047-30aa-42ae-8d16-0b1eb3f3e730"
      },
      "execution_count": 14,
      "outputs": [
        {
          "output_type": "stream",
          "name": "stdout",
          "text": [
            "banana is in the tuple\n"
          ]
        }
      ]
    },
    {
      "cell_type": "markdown",
      "source": [
        "16. Write a code to create a set with the elements 1, 2, 3, 4, 5 and print it."
      ],
      "metadata": {
        "id": "uRMOwfUFoaiR"
      }
    },
    {
      "cell_type": "code",
      "source": [
        "# Create a set\n",
        "my_set = {1, 2, 3, 4, 5}\n",
        "\n",
        "# Print the set\n",
        "print(my_set)"
      ],
      "metadata": {
        "colab": {
          "base_uri": "https://localhost:8080/"
        },
        "id": "lTcvsEGkocb0",
        "outputId": "a7a5adb5-2bef-46e9-c72c-db5dd6c1264d"
      },
      "execution_count": 13,
      "outputs": [
        {
          "output_type": "stream",
          "name": "stdout",
          "text": [
            "{1, 2, 3, 4, 5}\n"
          ]
        }
      ]
    },
    {
      "cell_type": "markdown",
      "source": [
        "17. Write a code to add the element 6 to the set {1, 2, 3, 4}"
      ],
      "metadata": {
        "id": "w_sc1nyModlV"
      }
    },
    {
      "cell_type": "code",
      "source": [
        "my_set = {1, 2, 3, 4}\n",
        "my_set.add(6)\n",
        "print(my_set)"
      ],
      "metadata": {
        "colab": {
          "base_uri": "https://localhost:8080/"
        },
        "id": "km3PCIEMog0c",
        "outputId": "54613004-1777-412c-b196-ede23bb84343"
      },
      "execution_count": 12,
      "outputs": [
        {
          "output_type": "stream",
          "name": "stdout",
          "text": [
            "{1, 2, 3, 4, 6}\n"
          ]
        }
      ]
    },
    {
      "cell_type": "markdown",
      "source": [
        "18. Write a code to create a tuple with the elements 10, 20, 30 and print it"
      ],
      "metadata": {
        "id": "cE7SFtXhoh90"
      }
    },
    {
      "cell_type": "code",
      "source": [
        "my_tuple = (10, 20, 30)\n",
        "print(my_tuple)"
      ],
      "metadata": {
        "colab": {
          "base_uri": "https://localhost:8080/"
        },
        "id": "bRP41tPfoji6",
        "outputId": "3a417496-87a7-4af3-e1bb-5a35b2bc8b4b"
      },
      "execution_count": 11,
      "outputs": [
        {
          "output_type": "stream",
          "name": "stdout",
          "text": [
            "(10, 20, 30)\n"
          ]
        }
      ]
    },
    {
      "cell_type": "markdown",
      "source": [
        "19.  Write a code to access the first element of the tuple ('apple', 'banana', 'cherry')."
      ],
      "metadata": {
        "id": "Aw4n1Tsqokzc"
      }
    },
    {
      "cell_type": "code",
      "source": [
        "my_tuple = ('apple', 'banana', 'cherry')\n",
        "first_element = my_tuple[0]\n",
        "print(first_element)"
      ],
      "metadata": {
        "colab": {
          "base_uri": "https://localhost:8080/"
        },
        "id": "o9Dos5rTomRa",
        "outputId": "ea23db36-e048-4b78-954c-2c0fc6c3310a"
      },
      "execution_count": 10,
      "outputs": [
        {
          "output_type": "stream",
          "name": "stdout",
          "text": [
            "apple\n"
          ]
        }
      ]
    },
    {
      "cell_type": "markdown",
      "source": [
        "20.  Write a code to count how many times the number 2 appears in the tuple (1, 2, 3, 2, 4, 2)."
      ],
      "metadata": {
        "id": "XyIvwCcmonbR"
      }
    },
    {
      "cell_type": "code",
      "source": [
        "my_tuple = (1, 2, 3, 2, 4, 2)\n",
        "count_of_two = my_tuple.count(2)\n",
        "print(f\"The number 2 appears {count_of_two} times in the tuple.\")"
      ],
      "metadata": {
        "colab": {
          "base_uri": "https://localhost:8080/"
        },
        "id": "4i1XZn6zoo5a",
        "outputId": "03477084-cd9a-47ea-f050-d7f02905cfe5"
      },
      "execution_count": 9,
      "outputs": [
        {
          "output_type": "stream",
          "name": "stdout",
          "text": [
            "The number 2 appears 3 times in the tuple.\n"
          ]
        }
      ]
    },
    {
      "cell_type": "markdown",
      "source": [
        "21. Write a code to find the index of the element \"cat\" in the tuple ('dog', 'cat', 'rabbit')."
      ],
      "metadata": {
        "id": "Anz7Z0LGop9_"
      }
    },
    {
      "cell_type": "code",
      "source": [
        "my_tuple = ('dog', 'cat', 'rabbit')\n",
        "index_of_cat = my_tuple.index('cat')\n",
        "print(f\"The index of 'cat' is: {index_of_cat}\")"
      ],
      "metadata": {
        "colab": {
          "base_uri": "https://localhost:8080/"
        },
        "id": "aKYizsLaorce",
        "outputId": "3e8caa72-a6d7-4911-acc3-d4b7aefeb00a"
      },
      "execution_count": 8,
      "outputs": [
        {
          "output_type": "stream",
          "name": "stdout",
          "text": [
            "The index of 'cat' is: 1\n"
          ]
        }
      ]
    },
    {
      "cell_type": "markdown",
      "source": [
        "Write a code to check if the element \"banana\" is in the tuple ('apple', 'orange', 'banana')."
      ],
      "metadata": {
        "id": "mXgeNuGQos_P"
      }
    },
    {
      "cell_type": "code",
      "source": [
        "my_tuple = ('apple', 'orange', 'banana')\n",
        "\n",
        "if 'banana' in my_tuple:\n",
        "  print(\"banana is in the tuple\")\n",
        "else:\n",
        "  print(\"banana is not in the tuple\")"
      ],
      "metadata": {
        "colab": {
          "base_uri": "https://localhost:8080/"
        },
        "id": "vGVkBqmzovGb",
        "outputId": "8e720964-f882-4e82-ab4e-ced2be31265b"
      },
      "execution_count": 7,
      "outputs": [
        {
          "output_type": "stream",
          "name": "stdout",
          "text": [
            "banana is in the tuple\n"
          ]
        }
      ]
    },
    {
      "cell_type": "markdown",
      "source": [
        "23. Write a code to create a set with the elements 1, 2, 3, 4, 5 and print it.:"
      ],
      "metadata": {
        "id": "o0R9_cmuowNj"
      }
    },
    {
      "cell_type": "code",
      "source": [
        "my_set = {1, 2, 3, 4, 5}\n",
        "print(my_set)"
      ],
      "metadata": {
        "colab": {
          "base_uri": "https://localhost:8080/"
        },
        "id": "kR5572OIoxXg",
        "outputId": "a1c0634e-067d-488d-9a04-cef7afac4c1e"
      },
      "execution_count": 6,
      "outputs": [
        {
          "output_type": "stream",
          "name": "stdout",
          "text": [
            "{1, 2, 3, 4, 5}\n"
          ]
        }
      ]
    },
    {
      "cell_type": "markdown",
      "source": [
        "24. Write a code to add the element 6 to the set {1, 2, 3, 4}."
      ],
      "metadata": {
        "id": "l-Yn4XaMoy-2"
      }
    },
    {
      "cell_type": "code",
      "source": [
        "my_set = {1, 2, 3, 4}\n",
        "my_set.add(6)\n",
        "print(my_set)"
      ],
      "metadata": {
        "colab": {
          "base_uri": "https://localhost:8080/"
        },
        "id": "iLUJ8NYho0Gs",
        "outputId": "0ea496bc-b450-43a7-ba48-2b7f909a95dc"
      },
      "execution_count": 5,
      "outputs": [
        {
          "output_type": "stream",
          "name": "stdout",
          "text": [
            "{1, 2, 3, 4, 6}\n"
          ]
        }
      ]
    }
  ]
}